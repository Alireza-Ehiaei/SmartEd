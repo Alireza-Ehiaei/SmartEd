{
 "cells": [
  {
   "cell_type": "markdown",
   "metadata": {},
   "source": [
    "## Counting in other numeral base than ten."
   ]
  },
  {
   "cell_type": "markdown",
   "metadata": {},
   "source": [
    "We have no other digit to count things in base x with number more than x. For example, 8 in base ten numerals, is 13 in base 5 numerals which are less than 5, because it includes one set with base (5) members plus 3.\n",
    "Similarly: 6 = 11, 9 = 14, but what about bigger digits? more importantly, how it can be explained for a kid who has no idea of the concept of power in math? Lets practice more."
   ]
  },
  {
   "cell_type": "code",
   "execution_count": 29,
   "metadata": {},
   "outputs": [
    {
     "name": "stdout",
     "output_type": "stream",
     "text": [
      "Please insert an integer digit less than 25\n",
      "99\n",
      "Please insert an integer digit less than 25\n",
      "5\n"
     ]
    }
   ],
   "source": [
    "print('Please insert an integer digit less than 25')\n",
    "\n",
    "digit1 = int(input())\n",
    "\n",
    "if digit1 > 11224:\n",
    "    print('Your number is more than 24')\n",
    "    \n",
    "    \n",
    "else:\n",
    "    print('Please insert an integer digit less than 25')\n",
    "    base = int(input())\n",
    "    q =[]\n",
    "    i=0\n",
    "    remainder = digit1 % base\n",
    "    quotient = digit1 // base\n",
    "    q.append(remainder)\n",
    "    \n",
    "    q.append(quotient)\n",
    "    \n",
    "    while quotient > base -1:\n",
    "        quotient = quotient // base \n",
    "        q.append(quotient)\n",
    " "
   ]
  },
  {
   "cell_type": "code",
   "execution_count": 31,
   "metadata": {},
   "outputs": [
    {
     "name": "stdout",
     "output_type": "stream",
     "text": [
      "There are 19 sets of 5 numbers plus remainder that is 4.\n",
      "Since in the base 5, we have numbers just between 0 and 4, it is not possible to write for example 99 = 19 * 5+ 4. Because 19 that is multiplier of base is bigger than 4.\n"
     ]
    }
   ],
   "source": [
    "        \n",
    "print ('In the digit you entered, there are %s sets of %s numbers plus remainder that is %s.' %(n-1, base, remainder))\n",
    "print ('Since in the base %s, we have numbers just between 0 and %s, it is not possible to write for example %s = % s * %s+ %s. Because %s that is multiplier of base is bigger than %s.' % (base , base-1, digit1, n-1, base, remainder, n-1, base-1))\n"
   ]
  },
  {
   "cell_type": "markdown",
   "metadata": {},
   "source": [
    "In order to understand better how a number in base 10 can be written in other bases it is better \n",
    "to write it in a matrix with columns equal to the base to count easily rows and continue converting the number."
   ]
  },
  {
   "cell_type": "code",
   "execution_count": 35,
   "metadata": {},
   "outputs": [],
   "source": [
    "import tkinter as tk\n",
    "\n",
    "###############################################################################\n",
    "# Grid layout example\n",
    "\n",
    "# Create the main window (grid layout)\n",
    "root = tk.Tk()\n",
    "root.title(\"Grid\")\n",
    "\n",
    "# Create widgets\n",
    "n=1\n",
    "m = 0\n",
    "for i in range (1, digit1):\n",
    "    if i%base == 0:\n",
    "        m = base\n",
    "        label_grid_1 = tk.Label(root, text=' %s '% i, bg='red')\n",
    "        label_grid_1.grid(row=n, column=m)\n",
    "        n += 1\n",
    "        m=0\n",
    "        \n",
    "    else:\n",
    "        label_grid_1 = tk.Label(root, text=' %s '% i, bg='orange')\n",
    "        label_grid_1.grid(row=n, column=m+1)\n",
    "        m += 1\n",
    "\n",
    "###############################################################################\n",
    "\n",
    "root.mainloop()"
   ]
  },
  {
   "cell_type": "markdown",
   "metadata": {},
   "source": [
    "But how we should count number of rows with items equal to the base so that just numbers less than the base is used?\n",
    "We have no way than using power(s) of the base and numbers less than base as multiplier(s)."
   ]
  },
  {
   "cell_type": "markdown",
   "metadata": {},
   "source": [
    "But counting in bases other than ten can be explained for those who are not familiar with the concept of power?\n",
    "We can show them the tables referring the powers and number of these sets which in total they are equal to the iitial didit."
   ]
  },
  {
   "cell_type": "code",
   "execution_count": 48,
   "metadata": {},
   "outputs": [],
   "source": [
    "import tkinter as tk\n",
    "\n",
    "root = tk.Tk()\n",
    "main_frame = tk.Frame(root, border=3, relief=tk.GROOVE)\n",
    "main_frame.grid()\n",
    "\n",
    "n=1\n",
    "k=0\n",
    "f=1\n",
    "\n",
    "for i in range(1,(digit1//base)+3):\n",
    "    #Create Labels for numbering the rows:\n",
    "    tk.Label(main_frame, \n",
    "            text=str(i), \n",
    "            border=1,\n",
    "            relief=tk.GROOVE,\n",
    "            padx=5,\n",
    "            pady=5,\n",
    "            ).grid(column=0, row=i)\n",
    "\n",
    "    #Create Frames with a Label inside:\n",
    "    frame = tk.Frame(main_frame,\n",
    "        border=3,\n",
    "        relief=tk.GROOVE,\n",
    "        background=\"blue\")\n",
    "    # Create widgets\n",
    "    for j in range (1, base+1):\n",
    "        if j%base == 0:\n",
    "            m = base\n",
    "            label_grid_1 = tk.Label(main_frame, text=' %s '% n, bg='red',padx=5,pady=5)\n",
    "            label_grid_1.grid(row=i, column=j+1)\n",
    "            n += 1\n",
    "\n",
    "        else:\n",
    "            label_grid_1 = tk.Label(main_frame, text=' %s '% n, bg='orange',padx=5,pady=5)\n",
    "            label_grid_1.grid(row=i, column=j+1)\n",
    "            n += 1\n",
    "        if n == digit1+1:  \n",
    "                break\n",
    "    \n",
    "frame = tk.Frame(main_frame,\n",
    "        border=3,\n",
    "        relief=tk.GROOVE,\n",
    "        background=\"blue\")\n",
    "     \n",
    "frame.grid(row=(0), column=base+2, rowspan=(dig[len(dig)-2]+1)*pow(base, len(dig)-1),  sticky=tk.N+tk.S)\n",
    "tk.Label(frame, \n",
    "                    text='{} set including {} ithems '.format(dig[len(dig)-1],pow(base,len(dig)-1)), \n",
    "                    border=1,\n",
    "                    relief=tk.GROOVE,\n",
    "                    padx=5,\n",
    "                    pady=5,).grid()   \n",
    "\n",
    "\n",
    "for i in range (len(dig)-1,1,-1): #(start, stop, step)\n",
    "   \n",
    "    \n",
    "#Create Frames with a Label inside:\n",
    "    frame = tk.Frame(main_frame,\n",
    "        border=3,\n",
    "        relief=tk.GROOVE,\n",
    "        background=\"blue\")\n",
    "     \n",
    "    frame.grid(row=0, column=(len(dig)-i+3)*base, rowspan=(dig[i]+1)*pow(base, i-1),  sticky=tk.N+tk.S)\n",
    "    tk.Label(frame,text='{} set including {} ithems '.format(dig[i],pow(base,i-1)), \n",
    "                        border=1,\n",
    "                        relief=tk.GROOVE,\n",
    "                        padx=5,\n",
    "                        pady=5,).grid() \n",
    "    \n",
    "frame = tk.Frame(main_frame,\n",
    "        border=3,\n",
    "        relief=tk.GROOVE,\n",
    "        background=\"blue\")\n",
    "     \n",
    "frame.grid(row=(0), column=(len(dig)+3)*base, rowspan=remainder+1,  sticky=tk.N+tk.S)\n",
    "tk.Label(frame, \n",
    "                    text=' {} individual ithems '.format(remainder), \n",
    "                    border=1,\n",
    "                    relief=tk.GROOVE,\n",
    "                    padx=5,\n",
    "                    pady=5,).grid() \n",
    "                           \n",
    "\n",
    "root.mainloop()"
   ]
  },
  {
   "cell_type": "markdown",
   "metadata": {},
   "source": [
    "The blue rectangels in table shown by running above code, illustrates the multiplier of each power of the base,\n",
    "from biggest power that is the left blue rectangle to smallest that shows which can be less than the base. They showed code block below."
   ]
  },
  {
   "cell_type": "code",
   "execution_count": 41,
   "metadata": {},
   "outputs": [
    {
     "name": "stdout",
     "output_type": "stream",
     "text": [
      "[4, 4, 3]\n",
      "['3 * 5^2 ', '4 * 5^1 ', '4 * 5^0 ']\n",
      " 99 =  3 * 5^2 + 4 * 5^1 + 4 * 5^0  = (3  4  4  ) in base 5\n"
     ]
    }
   ],
   "source": [
    "x=0\n",
    "dig=[]\n",
    "alph_num =[]\n",
    "n_base_expand=[]\n",
    "n_base_expand_alph=[]\n",
    "n_base_digit= []\n",
    "n_base_alph_digit=[]\n",
    "\n",
    "for i in range (len(q)):\n",
    "    dig.append(q[i]%base) \n",
    "\n",
    "\n",
    "for i in range (len(q)-1,-1,-1): #(start, stop, step)\n",
    "    n_base_expand.append('%s * %s^%s '% (dig[i], base, i))\n",
    "    n_base_digit.append('%s  '% (dig[i]))\n",
    "    \n",
    "    \n",
    "\n",
    "expand = '+ '.join(n_base_expand)\n",
    "digit_ = ''.join(n_base_digit)\n",
    "\n",
    "\n",
    "alph_digit = ''.join(n_base_alph_digit)\n",
    "\n",
    "print(dig)\n",
    "print(n_base_expand)\n",
    "\n",
    "print(' %s =  %s = (%s) in base %s'% (digit1,expand, digit_,base))\n"
   ]
  }
 ],
 "metadata": {
  "kernelspec": {
   "display_name": "Python 3",
   "language": "python",
   "name": "python3"
  },
  "language_info": {
   "codemirror_mode": {
    "name": "ipython",
    "version": 3
   },
   "file_extension": ".py",
   "mimetype": "text/x-python",
   "name": "python",
   "nbconvert_exporter": "python",
   "pygments_lexer": "ipython3",
   "version": "3.8.5"
  }
 },
 "nbformat": 4,
 "nbformat_minor": 4
}
