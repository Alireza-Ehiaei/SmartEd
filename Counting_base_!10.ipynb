{
 "cells": [
  {
   "cell_type": "markdown",
   "metadata": {},
   "source": [
    "# Counting in other numeral base than ten."
   ]
  },
  {
   "cell_type": "markdown",
   "metadata": {},
   "source": [
    "#### Usually, we do counting based on nemeral base 10 that includes 10 nembers from 0 to 9. We have no other digit to count things in base n with number more than n. For example, 8 in numeral base ten is equal to 13 in numeral base 5 which is less than 5, because it includes one set with base (5) members plus 3. Similarly: 6 = 11, 9 = 14, but what about bigger digits? more importantly, how it can be explained for a kid or any person who has no idea of the concept of power in math? Lets practice more. (run code cells below respectively, don't jump)"
   ]
  },
  {
   "cell_type": "code",
   "execution_count": 123,
   "metadata": {},
   "outputs": [
    {
     "name": "stdout",
     "output_type": "stream",
     "text": [
      "Please insert an integer digit not more than 100 (to have a simple practice)\n",
      "99\n",
      "Please insert an integer digit not more than 25 as new numeral base\n",
      "16\n"
     ]
    }
   ],
   "source": [
    "print('Please insert an integer digit not more than 100 (to have a simple practice)')\n",
    "\n",
    "digit1 = int(input())\n",
    "\n",
    "if digit1 > 100:\n",
    "    print('Your number is more than 100')\n",
    "    \n",
    "    \n",
    "else:\n",
    "    print('Please insert an integer digit not more than 25 as new numeral base')\n",
    "    base = int(input())\n",
    "    if base > 25:\n",
    "        print('Your number is more than 25')\n",
    "        \n",
    "    else:\n",
    "        q =[]\n",
    "        i=0\n",
    "        remainder = digit1 % base\n",
    "        quotient = digit1 // base\n",
    "        quotient_ = quotient\n",
    "        q.append(remainder)\n",
    "\n",
    "        q.append(quotient)\n",
    "\n",
    "        while quotient > base -1:\n",
    "            quotient = quotient // base \n",
    "            q.append(quotient)\n",
    " "
   ]
  },
  {
   "cell_type": "code",
   "execution_count": 14,
   "metadata": {},
   "outputs": [
    {
     "name": "stdout",
     "output_type": "stream",
     "text": [
      "In the digit you entered, there are 9 sets of 8 numbers plus remainder that is 3.\n",
      "Since in the base 8, we have numbers just between 0 and 7, it is not possible to write for example 75 = 9 * 8+ 3. Because 9 that is multiplier of base is bigger than 7.\n"
     ]
    }
   ],
   "source": [
    "print ('In the digit you entered, there are %s sets of %s numbers plus remainder that is %s.' %(quotient_, base, remainder))\n",
    "\n",
    "print ('Since in the base %s, we have numbers just between 0 and %s, it is not possible to write for example %s = % s * %s+ %s. Because %s that is multiplier of base is bigger than %s.' % (base , base-1, digit1, quotient_, base, remainder, quotient_, base-1))"
   ]
  },
  {
   "cell_type": "markdown",
   "metadata": {},
   "source": [
    "#### In order to understand better how a number in base 10 can be written in other bases, it is better to write it in a matrix with columns equal to the base tat helps to count easily rows and continue converting the number."
   ]
  },
  {
   "cell_type": "markdown",
   "metadata": {},
   "source": [
    "#### But how should we count with a set of numbers less than the base? We have no way than using power of the base and numbers less than the base as a multiplier(s)."
   ]
  },
  {
   "cell_type": "code",
   "execution_count": 124,
   "metadata": {
    "scrolled": true
   },
   "outputs": [
    {
     "name": "stdout",
     "output_type": "stream",
     "text": [
      "[3, 6]\n",
      "['6 * 16^1 ', '3 * 16^0 ']\n",
      "6  3  \n",
      " 99 =  6 * 16^1 + 3 * 16^0  = (6  3  ) in base 16\n"
     ]
    }
   ],
   "source": [
    "x=0\n",
    "dig=[]\n",
    "alph_num =[]\n",
    "n_base_expand=[]\n",
    "n_base_expand_alph=[]\n",
    "n_base_digit= []\n",
    "n_base_alph_digit=[]\n",
    "\n",
    "for i in range (len(q)):\n",
    "    dig.append(q[i]%base) \n",
    "\n",
    "\n",
    "for i in range (len(q)-1,-1,-1): #(start, stop, step)\n",
    "    n_base_expand.append('%s * %s^%s '% (dig[i], base, i))\n",
    "    n_base_digit.append('%s  '% (dig[i]))\n",
    "    \n",
    "\n",
    "expand = '+ '.join(n_base_expand)\n",
    "digit_ = ''.join(n_base_digit)\n",
    "\n",
    "\n",
    "alph_digit = ''.join(n_base_alph_digit)\n",
    "\n",
    "print(dig)\n",
    "print(n_base_expand)\n",
    "print(digit_)\n",
    "\n",
    "print(' %s =  %s = (%s) in base %s'% (digit1,expand, digit_,base))\n"
   ]
  },
  {
   "cell_type": "markdown",
   "metadata": {},
   "source": [
    "#### Can counting on bases other than ten be explained for those who are not familiar with the concept of power? A visual translation of numbers would help. We can show a digit in a table with column numbers equal to the base. (Output of the below code cell will be shown in a window out of this file, and needs to be closed for the next output being seen)"
   ]
  },
  {
   "cell_type": "code",
   "execution_count": 125,
   "metadata": {},
   "outputs": [],
   "source": [
    "import tkinter as tk\n",
    "###############################################################################\n",
    "# Grid layout example\n",
    "\n",
    "# Create the main window (grid layout)\n",
    "root = tk.Tk()\n",
    "root.title(\"Grid\")\n",
    "\n",
    "# Create widgets\n",
    "n=1\n",
    "m = 0\n",
    "for i in range (1, digit1+1):\n",
    "    if i%base == 0:\n",
    "        m = base\n",
    "        label_grid_1 = tk.Label(root, text=' %s '% i, bg='red')\n",
    "        label_grid_1.grid(row=n, column=m)\n",
    "        n += 1\n",
    "        m=0\n",
    "        \n",
    "    else:\n",
    "        label_grid_1 = tk.Label(root, text=' %s '% i, bg='orange')\n",
    "        label_grid_1.grid(row=n, column=m+1)\n",
    "        m += 1\n",
    "\n",
    "        \n",
    "###############################################################################\n",
    "root.mainloop()"
   ]
  },
  {
   "cell_type": "markdown",
   "metadata": {},
   "source": [
    "#### The blue rectangels in table of output shown by running below code illustrates the multiplier of biggest power of the base, other green columns show  other multipliers of base from biggest power to smallest except the last one that shows reminder with grey color. (close output of above code to see the output of the below code)."
   ]
  },
  {
   "cell_type": "code",
   "execution_count": 126,
   "metadata": {},
   "outputs": [],
   "source": [
    "import tkinter as tk\n",
    "\n",
    "root = tk.Tk()\n",
    "main_frame = tk.Frame(root, border=3, relief=tk.GROOVE)\n",
    "main_frame.grid()\n",
    "\n",
    "n=1\n",
    "k=0\n",
    "f=1\n",
    "m=0\n",
    "\n",
    "for i in range (1, digit1+1):\n",
    "    if i%base == 0:\n",
    "        m = base\n",
    "        label_grid_1 = tk.Label(main_frame, text=' %s '% i, bg='red')\n",
    "        label_grid_1.grid(row=n, column=m)\n",
    "        n += 1\n",
    "        m=0\n",
    "        \n",
    "    else:\n",
    "        label_grid_1 = tk.Label(main_frame, text=' %s '% i, bg='orange')\n",
    "        label_grid_1.grid(row=n, column=m+1)\n",
    "        m += 1\n",
    "        \n",
    "\n",
    "        \n",
    "\n",
    "# for biggest power \n",
    "frame = tk.Frame(main_frame,\n",
    "        border=3,\n",
    "        relief=tk.GROOVE,\n",
    "        background=\"blue\")\n",
    "     \n",
    "frame.grid(row=(0), column=base+2, rowspan=(dig[len(dig)-1]+2),  sticky=tk.N+tk.S)\n",
    "tk.Label(frame, \n",
    "                    text='{} set including {} ithems '.format(dig[len(dig)-1],pow(base,len(dig)-1)), \n",
    "                    border=1,\n",
    "                    relief=tk.GROOVE,\n",
    "                    padx=5,\n",
    "                    pady=5,).grid()   \n",
    "\n",
    "\n",
    "# for other powers than biggest one and zero\n",
    "\n",
    "for i in range (len(dig)-1,1,-1): #(start, stop, step)   \n",
    "    print(\"len(dig)-1= \", dig[i-1])\n",
    "#Create Frames with a Label inside:\n",
    "    frame = tk.Frame(main_frame,\n",
    "        border=1,\n",
    "        relief=tk.GROOVE,\n",
    "        background=\"green\")\n",
    "     \n",
    "    frame.grid(row=0, column=(len(dig)-i+2)*base, rowspan=(dig[i-1]+2),  sticky=tk.N+tk.S)\n",
    "    tk.Label(frame,text='{} set including {} ithems '.format(dig[i-1],pow(base,i-1)), \n",
    "                        border=1,\n",
    "                        relief=tk.GROOVE,\n",
    "                        padx=5,\n",
    "                        pady=5,).grid() \n",
    "\n",
    "    \n",
    "# for power zero, reminder\n",
    "frame = tk.Frame(main_frame,\n",
    "        border=3,\n",
    "        relief=tk.GROOVE,\n",
    "        background=\"grey\")\n",
    "     \n",
    "frame.grid(row=(0), column=(len(dig)+3)*base, rowspan=remainder+2,  sticky=tk.N+tk.S)\n",
    "tk.Label(frame, \n",
    "                    text=' {} individual ithems '.format(remainder), \n",
    "                    border=1,\n",
    "                    relief=tk.GROOVE,\n",
    "                    padx=5,\n",
    "                    pady=5,).grid() \n",
    "                           \n",
    "\n",
    "root.mainloop()"
   ]
  },
  {
   "cell_type": "code",
   "execution_count": null,
   "metadata": {},
   "outputs": [],
   "source": []
  },
  {
   "cell_type": "code",
   "execution_count": null,
   "metadata": {},
   "outputs": [],
   "source": []
  }
 ],
 "metadata": {
  "kernelspec": {
   "display_name": "Python 3",
   "language": "python",
   "name": "python3"
  },
  "language_info": {
   "codemirror_mode": {
    "name": "ipython",
    "version": 3
   },
   "file_extension": ".py",
   "mimetype": "text/x-python",
   "name": "python",
   "nbconvert_exporter": "python",
   "pygments_lexer": "ipython3",
   "version": "3.8.5"
  }
 },
 "nbformat": 4,
 "nbformat_minor": 4
}
